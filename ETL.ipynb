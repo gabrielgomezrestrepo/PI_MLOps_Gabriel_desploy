{
 "cells": [
  {
   "cell_type": "code",
   "execution_count": 22,
   "metadata": {},
   "outputs": [],
   "source": [
    "import gzip, ast, json, pandas as pd\n",
    "\n",
    "\n",
    "\n",
    "data = []\n",
    "with gzip.open('user_reviews.json.gz', 'rb') as f:\n",
    "    for line in f:\n",
    "        data.append(ast.literal_eval(line.decode('utf-8')))\n",
    "user_reviews = pd.DataFrame(data)\n",
    "f.close()\n",
    "\n",
    "\n"
   ]
  },
  {
   "cell_type": "markdown",
   "metadata": {},
   "source": [
    "CREAR COLUMNA user_reviews.sentiment_analysis \n",
    "1. reviasamos el Dataframe user_reviews con( .info() y .head()) y preparamos la columna user_reviews.reviews para desanidarla pero la preparamos para que este formada por objetos \n",
    ".json \n",
    "2. procedemos crear la funcion para consegir user_reviews.sentiment_analysis \n",
    "3. eliminamos nulos \n",
    "4. creamos archivo user_reviews.csv"
   ]
  },
  {
   "cell_type": "code",
   "execution_count": 23,
   "metadata": {},
   "outputs": [
    {
     "name": "stdout",
     "output_type": "stream",
     "text": [
      "<class 'pandas.core.frame.DataFrame'>\n",
      "RangeIndex: 25799 entries, 0 to 25798\n",
      "Data columns (total 3 columns):\n",
      " #   Column    Non-Null Count  Dtype \n",
      "---  ------    --------------  ----- \n",
      " 0   user_id   25799 non-null  object\n",
      " 1   user_url  25799 non-null  object\n",
      " 2   reviews   25799 non-null  object\n",
      "dtypes: object(3)\n",
      "memory usage: 604.8+ KB\n"
     ]
    }
   ],
   "source": [
    "user_reviews.info() # mirando DataFrame observamos 3 columnas"
   ]
  },
  {
   "cell_type": "code",
   "execution_count": 24,
   "metadata": {},
   "outputs": [
    {
     "data": {
      "text/html": [
       "<div>\n",
       "<style scoped>\n",
       "    .dataframe tbody tr th:only-of-type {\n",
       "        vertical-align: middle;\n",
       "    }\n",
       "\n",
       "    .dataframe tbody tr th {\n",
       "        vertical-align: top;\n",
       "    }\n",
       "\n",
       "    .dataframe thead th {\n",
       "        text-align: right;\n",
       "    }\n",
       "</style>\n",
       "<table border=\"1\" class=\"dataframe\">\n",
       "  <thead>\n",
       "    <tr style=\"text-align: right;\">\n",
       "      <th></th>\n",
       "      <th>user_id</th>\n",
       "      <th>user_url</th>\n",
       "      <th>reviews</th>\n",
       "    </tr>\n",
       "  </thead>\n",
       "  <tbody>\n",
       "    <tr>\n",
       "      <th>0</th>\n",
       "      <td>76561197970982479</td>\n",
       "      <td>http://steamcommunity.com/profiles/76561197970...</td>\n",
       "      <td>[{'funny': '', 'posted': 'Posted November 5, 2...</td>\n",
       "    </tr>\n",
       "    <tr>\n",
       "      <th>1</th>\n",
       "      <td>js41637</td>\n",
       "      <td>http://steamcommunity.com/id/js41637</td>\n",
       "      <td>[{'funny': '', 'posted': 'Posted June 24, 2014...</td>\n",
       "    </tr>\n",
       "    <tr>\n",
       "      <th>2</th>\n",
       "      <td>evcentric</td>\n",
       "      <td>http://steamcommunity.com/id/evcentric</td>\n",
       "      <td>[{'funny': '', 'posted': 'Posted February 3.',...</td>\n",
       "    </tr>\n",
       "    <tr>\n",
       "      <th>3</th>\n",
       "      <td>doctr</td>\n",
       "      <td>http://steamcommunity.com/id/doctr</td>\n",
       "      <td>[{'funny': '', 'posted': 'Posted October 14, 2...</td>\n",
       "    </tr>\n",
       "    <tr>\n",
       "      <th>4</th>\n",
       "      <td>maplemage</td>\n",
       "      <td>http://steamcommunity.com/id/maplemage</td>\n",
       "      <td>[{'funny': '3 people found this review funny',...</td>\n",
       "    </tr>\n",
       "  </tbody>\n",
       "</table>\n",
       "</div>"
      ],
      "text/plain": [
       "             user_id                                           user_url  \\\n",
       "0  76561197970982479  http://steamcommunity.com/profiles/76561197970...   \n",
       "1            js41637               http://steamcommunity.com/id/js41637   \n",
       "2          evcentric             http://steamcommunity.com/id/evcentric   \n",
       "3              doctr                 http://steamcommunity.com/id/doctr   \n",
       "4          maplemage             http://steamcommunity.com/id/maplemage   \n",
       "\n",
       "                                             reviews  \n",
       "0  [{'funny': '', 'posted': 'Posted November 5, 2...  \n",
       "1  [{'funny': '', 'posted': 'Posted June 24, 2014...  \n",
       "2  [{'funny': '', 'posted': 'Posted February 3.',...  \n",
       "3  [{'funny': '', 'posted': 'Posted October 14, 2...  \n",
       "4  [{'funny': '3 people found this review funny',...  "
      ]
     },
     "execution_count": 24,
     "metadata": {},
     "output_type": "execute_result"
    }
   ],
   "source": [
    "user_reviews.head() # miramos los tres columnas y las 5 primeras filas del DataFrame "
   ]
  },
  {
   "cell_type": "code",
   "execution_count": 25,
   "metadata": {},
   "outputs": [
    {
     "data": {
      "text/plain": [
       "0        [{'funny': '', 'posted': 'Posted November 5, 2...\n",
       "1        [{'funny': '', 'posted': 'Posted June 24, 2014...\n",
       "2        [{'funny': '', 'posted': 'Posted February 3.',...\n",
       "3        [{'funny': '', 'posted': 'Posted October 14, 2...\n",
       "4        [{'funny': '3 people found this review funny',...\n",
       "                               ...                        \n",
       "25794    [{'funny': '', 'posted': 'Posted May 31.', 'la...\n",
       "25795    [{'funny': '', 'posted': 'Posted June 17.', 'l...\n",
       "25796    [{'funny': '1 person found this review funny',...\n",
       "25797    [{'funny': '', 'posted': 'Posted July 21.', 'l...\n",
       "25798    [{'funny': '1 person found this review funny',...\n",
       "Name: reviews, Length: 25799, dtype: object"
      ]
     },
     "execution_count": 25,
     "metadata": {},
     "output_type": "execute_result"
    }
   ],
   "source": [
    "user_reviews[\"reviews\"] # mirando el pricipio y final de  columna user_reviews.reviews\n",
    "# observamos que clave y valor tienen comillas simples  "
   ]
  },
  {
   "cell_type": "markdown",
   "metadata": {},
   "source": [
    "Creamos  funcion para corregir columna user_reviews.reviews"
   ]
  },
  {
   "cell_type": "code",
   "execution_count": 26,
   "metadata": {},
   "outputs": [],
   "source": [
    "import json\n",
    "\n",
    "def corregir_reviews_a_json(df):\n",
    "    def corregir_celda(celda):\n",
    "        if isinstance(celda, str):\n",
    "            try:\n",
    "                # Intentar cargar la celda como JSON\n",
    "                json_data = json.loads(celda)\n",
    "                return json_data\n",
    "            except json.JSONDecodeError:\n",
    "                # Si hay un error al cargar como JSON, devolver la celda sin cambios\n",
    "                return celda\n",
    "        elif isinstance(celda, list):\n",
    "            # Si la celda es una lista, convertirla a una cadena JSON\n",
    "            return json.dumps(celda)\n",
    "        else:\n",
    "            # Si la celda no es ni una cadena ni una lista, devolverla sin cambios\n",
    "            return celda\n",
    "\n",
    "    # Aplicar la función a cada celda de la columna 'reviews'\n",
    "    df['reviews'] = df['reviews'].apply(corregir_celda)\n",
    "    return df\n",
    "\n",
    "# Llamar a la función con tu DataFrame\n",
    "user_reviews = corregir_reviews_a_json(user_reviews)\n"
   ]
  },
  {
   "cell_type": "code",
   "execution_count": 27,
   "metadata": {},
   "outputs": [
    {
     "data": {
      "text/plain": [
       "0        [{\"funny\": \"\", \"posted\": \"Posted November 5, 2...\n",
       "1        [{\"funny\": \"\", \"posted\": \"Posted June 24, 2014...\n",
       "2        [{\"funny\": \"\", \"posted\": \"Posted February 3.\",...\n",
       "3        [{\"funny\": \"\", \"posted\": \"Posted October 14, 2...\n",
       "4        [{\"funny\": \"3 people found this review funny\",...\n",
       "                               ...                        \n",
       "25794    [{\"funny\": \"\", \"posted\": \"Posted May 31.\", \"la...\n",
       "25795    [{\"funny\": \"\", \"posted\": \"Posted June 17.\", \"l...\n",
       "25796    [{\"funny\": \"1 person found this review funny\",...\n",
       "25797    [{\"funny\": \"\", \"posted\": \"Posted July 21.\", \"l...\n",
       "25798    [{\"funny\": \"1 person found this review funny\",...\n",
       "Name: reviews, Length: 25799, dtype: object"
      ]
     },
     "execution_count": 27,
     "metadata": {},
     "output_type": "execute_result"
    }
   ],
   "source": [
    "user_reviews[\"reviews\"] # mirando columna reviews y vemos que ya si parece un json "
   ]
  },
  {
   "cell_type": "markdown",
   "metadata": {},
   "source": [
    "procedemos a desanidar la columna user_reviews.reviews "
   ]
  },
  {
   "cell_type": "code",
   "execution_count": 28,
   "metadata": {},
   "outputs": [],
   "source": [
    "import pandas as pd\n",
    "import json\n",
    "\n",
    "def desanidar_reviews(df):\n",
    "    # Crear listas vacías para cada nueva columna que queremos crear\n",
    "    columnas_nuevas = ['funny', 'posted', 'last_edited', 'item_id', 'helpful', 'recommend', 'review']\n",
    "    for columna in columnas_nuevas:\n",
    "        df[columna] = None\n",
    "    \n",
    "    # Iterar sobre cada fila del DataFrame\n",
    "    for indice, fila in df.iterrows():\n",
    "        # Desanidar los datos JSON de la columna 'reviews' en una lista\n",
    "        datos_json = json.loads(fila['reviews'])\n",
    "        \n",
    "        # Verificar si los datos son una lista y si hay al menos un elemento\n",
    "        if isinstance(datos_json, list) and len(datos_json) > 0:\n",
    "            # Tomar el primer elemento de la lista como los datos desanidados\n",
    "            elemento = datos_json[0]\n",
    "            # Asignar los valores desanidados a las nuevas columnas\n",
    "            for columna in columnas_nuevas:\n",
    "                df.at[indice, columna] = elemento.get(columna, None)\n",
    "    \n",
    "    # Eliminar la columna 'reviews' original\n",
    "    df.drop(columns=['reviews'], inplace=True)\n",
    "    \n",
    "    return df\n",
    "\n",
    "# Llamar a la función con tu DataFrame\n",
    "user_reviews = desanidar_reviews(user_reviews)\n"
   ]
  },
  {
   "cell_type": "code",
   "execution_count": 29,
   "metadata": {},
   "outputs": [
    {
     "name": "stdout",
     "output_type": "stream",
     "text": [
      "<class 'pandas.core.frame.DataFrame'>\n",
      "RangeIndex: 25799 entries, 0 to 25798\n",
      "Data columns (total 9 columns):\n",
      " #   Column       Non-Null Count  Dtype \n",
      "---  ------       --------------  ----- \n",
      " 0   user_id      25799 non-null  object\n",
      " 1   user_url     25799 non-null  object\n",
      " 2   funny        25771 non-null  object\n",
      " 3   posted       25771 non-null  object\n",
      " 4   last_edited  25771 non-null  object\n",
      " 5   item_id      25771 non-null  object\n",
      " 6   helpful      25771 non-null  object\n",
      " 7   recommend    25771 non-null  object\n",
      " 8   review       25771 non-null  object\n",
      "dtypes: object(9)\n",
      "memory usage: 1.8+ MB\n"
     ]
    }
   ],
   "source": [
    "user_reviews.info()# Observamos que despues de desanidar ha sido reemplazada la columna reviews\n",
    "#por 6 columnas ( 'funny', 'posted', 'last_edited', 'item_id', 'helpful', 'recommend', 'review')"
   ]
  },
  {
   "cell_type": "code",
   "execution_count": 30,
   "metadata": {},
   "outputs": [
    {
     "name": "stdout",
     "output_type": "stream",
     "text": [
      "Valores nulos :\n",
      "user_id         0\n",
      "user_url        0\n",
      "funny          28\n",
      "posted         28\n",
      "last_edited    28\n",
      "item_id        28\n",
      "helpful        28\n",
      "recommend      28\n",
      "review         28\n",
      "dtype: int64\n",
      "196\n",
      "\n",
      "Valores no nulos:\n",
      "user_id        25799\n",
      "user_url       25799\n",
      "funny          25771\n",
      "posted         25771\n",
      "last_edited    25771\n",
      "item_id        25771\n",
      "helpful        25771\n",
      "recommend      25771\n",
      "review         25771\n",
      "dtype: int64\n",
      "231995\n"
     ]
    }
   ],
   "source": [
    "# Ver tanto los valores nulos como los no nulos simultáneamente\n",
    "print(\"Valores nulos :\")\n",
    "print(user_reviews.isnull().sum())\n",
    "print(user_reviews.isnull().sum().sum())\n",
    "print(\"\\nValores no nulos:\")\n",
    "print(user_reviews.notnull().sum())\n",
    "print(user_reviews.notnull().sum().sum())"
   ]
  },
  {
   "cell_type": "code",
   "execution_count": 31,
   "metadata": {},
   "outputs": [],
   "source": [
    "user_reviews.isnull().sum().sum() # total nulos del DataFrame user_reviews\n",
    "user_reviews =  user_reviews.dropna() #  user_reviews sin nulos"
   ]
  },
  {
   "cell_type": "code",
   "execution_count": 32,
   "metadata": {},
   "outputs": [
    {
     "name": "stdout",
     "output_type": "stream",
     "text": [
      "Valores nulos :\n",
      "user_id        0\n",
      "user_url       0\n",
      "funny          0\n",
      "posted         0\n",
      "last_edited    0\n",
      "item_id        0\n",
      "helpful        0\n",
      "recommend      0\n",
      "review         0\n",
      "dtype: int64\n",
      "0\n",
      "\n",
      "Valores no nulos:\n",
      "user_id        25771\n",
      "user_url       25771\n",
      "funny          25771\n",
      "posted         25771\n",
      "last_edited    25771\n",
      "item_id        25771\n",
      "helpful        25771\n",
      "recommend      25771\n",
      "review         25771\n",
      "dtype: int64\n",
      "231939\n"
     ]
    }
   ],
   "source": [
    "# Volvemos a mirar tanto los valores nulos como los no nulos simultáneamente y vemos que ya no hay nulos\n",
    "print(\"Valores nulos :\")\n",
    "print(user_reviews.isnull().sum())\n",
    "print(user_reviews.isnull().sum().sum())\n",
    "print(\"\\nValores no nulos:\")\n",
    "print(user_reviews.notnull().sum())\n",
    "print(user_reviews.notnull().sum().sum())"
   ]
  },
  {
   "cell_type": "markdown",
   "metadata": {},
   "source": [
    "CREAMOS ARCHIVO csv para DataFrame **user_reviews**"
   ]
  },
  {
   "cell_type": "code",
   "execution_count": 33,
   "metadata": {},
   "outputs": [],
   "source": [
    "# Guardar el DataFrame user_reviews en un archivo CSV\n",
    "user_reviews.to_csv('user_reviews.csv', index=False)"
   ]
  },
  {
   "cell_type": "markdown",
   "metadata": {},
   "source": [
    "CREAMOS COLUMNA 'sentiment_analysis' y creamos un csv"
   ]
  },
  {
   "cell_type": "code",
   "execution_count": 34,
   "metadata": {},
   "outputs": [],
   "source": [
    "import pandas as pd\n",
    "from textblob import TextBlob\n",
    "\n",
    "# Función para análisis de sentimiento\n",
    "def analizar_sentimiento(reseña):\n",
    "    if pd.isnull(reseña):\n",
    "        return 1  # Valor neutral si la reseña está ausente\n",
    "    else:\n",
    "        analysis = TextBlob(reseña)\n",
    "        polarity = analysis.sentiment.polarity\n",
    "        if polarity < -0.1:\n",
    "            return 0  # Sentimiento negativo\n",
    "        elif polarity > 0.1:\n",
    "            return 2  # Sentimiento positivo\n",
    "        else:\n",
    "            return 1  # Sentimiento neutral\n",
    "\n",
    "# Cargar el DataFrame user_reviews\n",
    "user_reviews = pd.read_csv('user_reviews.csv')\n",
    "\n",
    "# Aplicar la función a la columna 'review' para crear la columna 'sentiment_analysis'\n",
    "user_reviews['sentiment_analysis'] = user_reviews['review'].apply(analizar_sentimiento)\n",
    "\n",
    "# Eliminar la columna 'review' original\n",
    "user_reviews.drop(columns=['review'], inplace=True)\n",
    "\n",
    "# Guardar el DataFrame actualizado en un nuevo archivo CSV\n",
    "user_reviews.to_csv('user_reviews_con_sentimiento.csv', index=False)\n"
   ]
  },
  {
   "cell_type": "code",
   "execution_count": 35,
   "metadata": {},
   "outputs": [
    {
     "name": "stdout",
     "output_type": "stream",
     "text": [
      "             user_id                                           user_url  \\\n",
      "0  76561197970982479  http://steamcommunity.com/profiles/76561197970...   \n",
      "1            js41637               http://steamcommunity.com/id/js41637   \n",
      "2          evcentric             http://steamcommunity.com/id/evcentric   \n",
      "3              doctr                 http://steamcommunity.com/id/doctr   \n",
      "4          maplemage             http://steamcommunity.com/id/maplemage   \n",
      "\n",
      "                              funny                    posted last_edited  \\\n",
      "0                               NaN  Posted November 5, 2011.         NaN   \n",
      "1                               NaN     Posted June 24, 2014.         NaN   \n",
      "2                               NaN        Posted February 3.         NaN   \n",
      "3                               NaN  Posted October 14, 2013.         NaN   \n",
      "4  3 people found this review funny    Posted April 15, 2014.         NaN   \n",
      "\n",
      "   item_id                                          helpful  recommend  \\\n",
      "0     1250                                   No ratings yet       True   \n",
      "1   251610  15 of 20 people (75%) found this review helpful       True   \n",
      "2   248820                                   No ratings yet       True   \n",
      "3   250320   2 of 2 people (100%) found this review helpful       True   \n",
      "4   211420  35 of 43 people (81%) found this review helpful       True   \n",
      "\n",
      "   sentiment_analysis  \n",
      "0                   2  \n",
      "1                   2  \n",
      "2                   2  \n",
      "3                   2  \n",
      "4                   1  \n"
     ]
    }
   ],
   "source": [
    "import pandas as pd\n",
    "\n",
    "# Cargar el archivo CSV en un DataFrame\n",
    "user_reviews_con_sentimiento = pd.read_csv('user_reviews_con_sentimiento.csv')\n",
    "\n",
    "# Mostrar las primeras filas del DataFrame\n",
    "print(user_reviews_con_sentimiento.head())\n"
   ]
  },
  {
   "cell_type": "code",
   "execution_count": 36,
   "metadata": {},
   "outputs": [
    {
     "name": "stdout",
     "output_type": "stream",
     "text": [
      "<class 'pandas.core.frame.DataFrame'>\n",
      "RangeIndex: 25771 entries, 0 to 25770\n",
      "Data columns (total 9 columns):\n",
      " #   Column              Non-Null Count  Dtype \n",
      "---  ------              --------------  ----- \n",
      " 0   user_id             25771 non-null  object\n",
      " 1   user_url            25771 non-null  object\n",
      " 2   funny               4204 non-null   object\n",
      " 3   posted              25771 non-null  object\n",
      " 4   last_edited         2027 non-null   object\n",
      " 5   item_id             25771 non-null  int64 \n",
      " 6   helpful             25771 non-null  object\n",
      " 7   recommend           25771 non-null  bool  \n",
      " 8   sentiment_analysis  25771 non-null  int64 \n",
      "dtypes: bool(1), int64(2), object(6)\n",
      "memory usage: 1.6+ MB\n"
     ]
    }
   ],
   "source": [
    "user_reviews_con_sentimiento.info()"
   ]
  },
  {
   "cell_type": "code",
   "execution_count": 37,
   "metadata": {},
   "outputs": [
    {
     "name": "stdout",
     "output_type": "stream",
     "text": [
      "0        2\n",
      "1        2\n",
      "2        2\n",
      "3        2\n",
      "4        1\n",
      "        ..\n",
      "25766    2\n",
      "25767    1\n",
      "25768    1\n",
      "25769    2\n",
      "25770    1\n",
      "Name: sentiment_analysis, Length: 25771, dtype: int64\n"
     ]
    }
   ],
   "source": [
    "# Visualizar la columna 'sentiment_analysis' del DataFrame\n",
    "columna_sentimiento = user_reviews_con_sentimiento['sentiment_analysis']\n",
    "print(columna_sentimiento)\n"
   ]
  },
  {
   "cell_type": "code",
   "execution_count": 38,
   "metadata": {},
   "outputs": [
    {
     "name": "stdout",
     "output_type": "stream",
     "text": [
      "0     2\n",
      "1     2\n",
      "2     2\n",
      "3     2\n",
      "4     1\n",
      "5     0\n",
      "6     1\n",
      "7     1\n",
      "8     0\n",
      "9     2\n",
      "10    1\n",
      "11    1\n",
      "12    1\n",
      "13    1\n",
      "14    0\n",
      "15    2\n",
      "16    0\n",
      "17    2\n",
      "18    1\n",
      "19    2\n",
      "Name: sentiment_analysis, dtype: int64\n"
     ]
    }
   ],
   "source": [
    "# Visualizar las primeras 20 filas de la columna 'sentiment_analysis'\n",
    "primeras_20_filas_sentimiento = user_reviews_con_sentimiento['sentiment_analysis'].head(20)\n",
    "print(primeras_20_filas_sentimiento)\n"
   ]
  },
  {
   "cell_type": "markdown",
   "metadata": {},
   "source": [
    " PROCESAMIENTO DE  DataFrame   'steam_games'"
   ]
  },
  {
   "cell_type": "code",
   "execution_count": 39,
   "metadata": {},
   "outputs": [],
   "source": [
    "import gzip, json, pandas as pd\n",
    "\n",
    "data = []\n",
    "with gzip.open('steam_games.json.gz', 'rb') as f:\n",
    "    for line in f:\n",
    "        data.append(json.loads(line))\n",
    "steam_games = pd.DataFrame(data)\n",
    "f.close()"
   ]
  },
  {
   "cell_type": "code",
   "execution_count": 40,
   "metadata": {},
   "outputs": [
    {
     "name": "stdout",
     "output_type": "stream",
     "text": [
      "Valores nulos :\n",
      "publisher       96362\n",
      "genres          91593\n",
      "app_name        88312\n",
      "title           90360\n",
      "url             88310\n",
      "release_date    90377\n",
      "tags            88473\n",
      "reviews_url     88312\n",
      "specs           88980\n",
      "price           89687\n",
      "early_access    88310\n",
      "id              88312\n",
      "developer       91609\n",
      "dtype: int64\n",
      "1168997\n",
      "\n",
      "Valores no nulos:\n",
      "publisher       24083\n",
      "genres          28852\n",
      "app_name        32133\n",
      "title           30085\n",
      "url             32135\n",
      "release_date    30068\n",
      "tags            31972\n",
      "reviews_url     32133\n",
      "specs           31465\n",
      "price           30758\n",
      "early_access    32135\n",
      "id              32133\n",
      "developer       28836\n",
      "dtype: int64\n",
      "396788\n"
     ]
    }
   ],
   "source": [
    "# Ver tanto los valores nulos como los no nulos simultáneamente\n",
    "print(\"Valores nulos :\")\n",
    "print(steam_games.isnull().sum())\n",
    "print(steam_games.isnull().sum().sum())\n",
    "print(\"\\nValores no nulos:\")\n",
    "print(steam_games.notnull().sum())\n",
    "print(steam_games.notnull().sum().sum())"
   ]
  },
  {
   "cell_type": "code",
   "execution_count": 41,
   "metadata": {},
   "outputs": [],
   "source": [
    "steam_games.isnull().sum().sum() # total nulos del DataFrame steam_games\n",
    "steam_games =  steam_games.dropna() #  steam_games sin nulos"
   ]
  },
  {
   "cell_type": "code",
   "execution_count": 42,
   "metadata": {},
   "outputs": [
    {
     "name": "stdout",
     "output_type": "stream",
     "text": [
      "<class 'pandas.core.frame.DataFrame'>\n",
      "Index: 22530 entries, 88310 to 120443\n",
      "Data columns (total 13 columns):\n",
      " #   Column        Non-Null Count  Dtype \n",
      "---  ------        --------------  ----- \n",
      " 0   publisher     22530 non-null  object\n",
      " 1   genres        22530 non-null  object\n",
      " 2   app_name      22530 non-null  object\n",
      " 3   title         22530 non-null  object\n",
      " 4   url           22530 non-null  object\n",
      " 5   release_date  22530 non-null  object\n",
      " 6   tags          22530 non-null  object\n",
      " 7   reviews_url   22530 non-null  object\n",
      " 8   specs         22530 non-null  object\n",
      " 9   price         22530 non-null  object\n",
      " 10  early_access  22530 non-null  object\n",
      " 11  id            22530 non-null  object\n",
      " 12  developer     22530 non-null  object\n",
      "dtypes: object(13)\n",
      "memory usage: 2.4+ MB\n"
     ]
    }
   ],
   "source": [
    "steam_games.info()\n"
   ]
  },
  {
   "cell_type": "code",
   "execution_count": 43,
   "metadata": {},
   "outputs": [
    {
     "name": "stdout",
     "output_type": "stream",
     "text": [
      "Valores nulos :\n",
      "publisher       0\n",
      "genres          0\n",
      "app_name        0\n",
      "title           0\n",
      "url             0\n",
      "release_date    0\n",
      "tags            0\n",
      "reviews_url     0\n",
      "specs           0\n",
      "price           0\n",
      "early_access    0\n",
      "id              0\n",
      "developer       0\n",
      "dtype: int64\n",
      "0\n",
      "\n",
      "Valores no nulos:\n",
      "publisher       22530\n",
      "genres          22530\n",
      "app_name        22530\n",
      "title           22530\n",
      "url             22530\n",
      "release_date    22530\n",
      "tags            22530\n",
      "reviews_url     22530\n",
      "specs           22530\n",
      "price           22530\n",
      "early_access    22530\n",
      "id              22530\n",
      "developer       22530\n",
      "dtype: int64\n",
      "292890\n"
     ]
    }
   ],
   "source": [
    "# Ver tanto los valores nulos como los no nulos simultáneamente\n",
    "print(\"Valores nulos :\")\n",
    "print(steam_games.isnull().sum())\n",
    "print(steam_games.isnull().sum().sum())\n",
    "print(\"\\nValores no nulos:\")\n",
    "print(steam_games.notnull().sum())\n",
    "print(steam_games.notnull().sum().sum())"
   ]
  },
  {
   "cell_type": "code",
   "execution_count": 44,
   "metadata": {},
   "outputs": [],
   "source": [
    "# Guardar el DataFrame steam_games en un archivo CSV\n",
    "steam_games.to_csv('steam_games.csv', index=False)"
   ]
  },
  {
   "cell_type": "markdown",
   "metadata": {},
   "source": [
    " PROCESAMIENTO DE  DataFrame   'user_items'"
   ]
  },
  {
   "cell_type": "code",
   "execution_count": 45,
   "metadata": {},
   "outputs": [],
   "source": [
    "import gzip, ast, json, pandas as pd\n",
    "\n",
    "data = []\n",
    "with gzip.open('users_items.json.gz', 'rb') as f:\n",
    "    for line in f:\n",
    "        data.append(ast.literal_eval(line.decode('utf-8')))\n",
    "users_items = pd.DataFrame(data)\n",
    "f.close()"
   ]
  },
  {
   "cell_type": "code",
   "execution_count": 46,
   "metadata": {},
   "outputs": [
    {
     "name": "stdout",
     "output_type": "stream",
     "text": [
      "<class 'pandas.core.frame.DataFrame'>\n",
      "RangeIndex: 88310 entries, 0 to 88309\n",
      "Data columns (total 5 columns):\n",
      " #   Column       Non-Null Count  Dtype \n",
      "---  ------       --------------  ----- \n",
      " 0   user_id      88310 non-null  object\n",
      " 1   items_count  88310 non-null  int64 \n",
      " 2   steam_id     88310 non-null  object\n",
      " 3   user_url     88310 non-null  object\n",
      " 4   items        88310 non-null  object\n",
      "dtypes: int64(1), object(4)\n",
      "memory usage: 3.4+ MB\n"
     ]
    }
   ],
   "source": [
    "users_items.info() # Observamos que hay dos columanas mas que las mostradas en el diccionerio 'tems_count'  e  'steam_id' "
   ]
  },
  {
   "cell_type": "code",
   "execution_count": 47,
   "metadata": {},
   "outputs": [
    {
     "data": {
      "text/html": [
       "<div>\n",
       "<style scoped>\n",
       "    .dataframe tbody tr th:only-of-type {\n",
       "        vertical-align: middle;\n",
       "    }\n",
       "\n",
       "    .dataframe tbody tr th {\n",
       "        vertical-align: top;\n",
       "    }\n",
       "\n",
       "    .dataframe thead th {\n",
       "        text-align: right;\n",
       "    }\n",
       "</style>\n",
       "<table border=\"1\" class=\"dataframe\">\n",
       "  <thead>\n",
       "    <tr style=\"text-align: right;\">\n",
       "      <th></th>\n",
       "      <th>user_id</th>\n",
       "      <th>items_count</th>\n",
       "      <th>steam_id</th>\n",
       "      <th>user_url</th>\n",
       "      <th>items</th>\n",
       "    </tr>\n",
       "  </thead>\n",
       "  <tbody>\n",
       "    <tr>\n",
       "      <th>0</th>\n",
       "      <td>76561197970982479</td>\n",
       "      <td>277</td>\n",
       "      <td>76561197970982479</td>\n",
       "      <td>http://steamcommunity.com/profiles/76561197970...</td>\n",
       "      <td>[{'item_id': '10', 'item_name': 'Counter-Strik...</td>\n",
       "    </tr>\n",
       "    <tr>\n",
       "      <th>1</th>\n",
       "      <td>js41637</td>\n",
       "      <td>888</td>\n",
       "      <td>76561198035864385</td>\n",
       "      <td>http://steamcommunity.com/id/js41637</td>\n",
       "      <td>[{'item_id': '10', 'item_name': 'Counter-Strik...</td>\n",
       "    </tr>\n",
       "    <tr>\n",
       "      <th>2</th>\n",
       "      <td>evcentric</td>\n",
       "      <td>137</td>\n",
       "      <td>76561198007712555</td>\n",
       "      <td>http://steamcommunity.com/id/evcentric</td>\n",
       "      <td>[{'item_id': '1200', 'item_name': 'Red Orchest...</td>\n",
       "    </tr>\n",
       "    <tr>\n",
       "      <th>3</th>\n",
       "      <td>Riot-Punch</td>\n",
       "      <td>328</td>\n",
       "      <td>76561197963445855</td>\n",
       "      <td>http://steamcommunity.com/id/Riot-Punch</td>\n",
       "      <td>[{'item_id': '10', 'item_name': 'Counter-Strik...</td>\n",
       "    </tr>\n",
       "    <tr>\n",
       "      <th>4</th>\n",
       "      <td>doctr</td>\n",
       "      <td>541</td>\n",
       "      <td>76561198002099482</td>\n",
       "      <td>http://steamcommunity.com/id/doctr</td>\n",
       "      <td>[{'item_id': '300', 'item_name': 'Day of Defea...</td>\n",
       "    </tr>\n",
       "  </tbody>\n",
       "</table>\n",
       "</div>"
      ],
      "text/plain": [
       "             user_id  items_count           steam_id  \\\n",
       "0  76561197970982479          277  76561197970982479   \n",
       "1            js41637          888  76561198035864385   \n",
       "2          evcentric          137  76561198007712555   \n",
       "3         Riot-Punch          328  76561197963445855   \n",
       "4              doctr          541  76561198002099482   \n",
       "\n",
       "                                            user_url  \\\n",
       "0  http://steamcommunity.com/profiles/76561197970...   \n",
       "1               http://steamcommunity.com/id/js41637   \n",
       "2             http://steamcommunity.com/id/evcentric   \n",
       "3            http://steamcommunity.com/id/Riot-Punch   \n",
       "4                 http://steamcommunity.com/id/doctr   \n",
       "\n",
       "                                               items  \n",
       "0  [{'item_id': '10', 'item_name': 'Counter-Strik...  \n",
       "1  [{'item_id': '10', 'item_name': 'Counter-Strik...  \n",
       "2  [{'item_id': '1200', 'item_name': 'Red Orchest...  \n",
       "3  [{'item_id': '10', 'item_name': 'Counter-Strik...  \n",
       "4  [{'item_id': '300', 'item_name': 'Day of Defea...  "
      ]
     },
     "execution_count": 47,
     "metadata": {},
     "output_type": "execute_result"
    }
   ],
   "source": [
    "users_items.head() # vemos que requerimos corregir json y desanidar"
   ]
  },
  {
   "cell_type": "code",
   "execution_count": 48,
   "metadata": {},
   "outputs": [
    {
     "name": "stdout",
     "output_type": "stream",
     "text": [
      "Valores nulos :\n",
      "user_id        0\n",
      "items_count    0\n",
      "steam_id       0\n",
      "user_url       0\n",
      "items          0\n",
      "dtype: int64\n",
      "0\n",
      "\n",
      "Valores no nulos:\n",
      "user_id        88310\n",
      "items_count    88310\n",
      "steam_id       88310\n",
      "user_url       88310\n",
      "items          88310\n",
      "dtype: int64\n",
      "441550\n"
     ]
    }
   ],
   "source": [
    "# Ver tanto los valores nulos como los no nulos simultáneamente \n",
    "print(\"Valores nulos :\")\n",
    "print(users_items.isnull().sum())\n",
    "print(users_items.isnull().sum().sum())\n",
    "print(\"\\nValores no nulos:\")\n",
    "print(users_items.notnull().sum())\n",
    "print(users_items.notnull().sum().sum())\n",
    "# vemos que no hay nulos"
   ]
  },
  {
   "cell_type": "markdown",
   "metadata": {},
   "source": [
    "Usamos funcion para corregir 'user_items'"
   ]
  },
  {
   "cell_type": "code",
   "execution_count": 49,
   "metadata": {},
   "outputs": [],
   "source": [
    "import json\n",
    "\n",
    "def corregir_items_a_json(df):\n",
    "    def corregir_celda(celda):\n",
    "        if isinstance(celda, str):\n",
    "            try:\n",
    "                # Intentar cargar la celda como JSON\n",
    "                json_data = json.loads(celda)\n",
    "                return json_data\n",
    "            except json.JSONDecodeError:\n",
    "                # Si hay un error al cargar como JSON, devolver la celda sin cambios\n",
    "                return celda\n",
    "        elif isinstance(celda, list):\n",
    "            # Si la celda es una lista, convertirla a una cadena JSON\n",
    "            return json.dumps(celda)\n",
    "        else:\n",
    "            # Si la celda no es ni una cadena ni una lista, devolverla sin cambios\n",
    "            return celda\n",
    "\n",
    "    # Aplicar la función a cada celda de la columna 'items'\n",
    "    df['items'] = df['items'].apply(corregir_celda)\n",
    "    return df\n",
    "\n",
    "# Llamar a la función con tu DataFrame\n",
    "users_items = corregir_items_a_json(users_items)\n"
   ]
  },
  {
   "cell_type": "code",
   "execution_count": 50,
   "metadata": {},
   "outputs": [
    {
     "data": {
      "text/html": [
       "<div>\n",
       "<style scoped>\n",
       "    .dataframe tbody tr th:only-of-type {\n",
       "        vertical-align: middle;\n",
       "    }\n",
       "\n",
       "    .dataframe tbody tr th {\n",
       "        vertical-align: top;\n",
       "    }\n",
       "\n",
       "    .dataframe thead th {\n",
       "        text-align: right;\n",
       "    }\n",
       "</style>\n",
       "<table border=\"1\" class=\"dataframe\">\n",
       "  <thead>\n",
       "    <tr style=\"text-align: right;\">\n",
       "      <th></th>\n",
       "      <th>user_id</th>\n",
       "      <th>items_count</th>\n",
       "      <th>steam_id</th>\n",
       "      <th>user_url</th>\n",
       "      <th>items</th>\n",
       "    </tr>\n",
       "  </thead>\n",
       "  <tbody>\n",
       "    <tr>\n",
       "      <th>0</th>\n",
       "      <td>76561197970982479</td>\n",
       "      <td>277</td>\n",
       "      <td>76561197970982479</td>\n",
       "      <td>http://steamcommunity.com/profiles/76561197970...</td>\n",
       "      <td>[{\"item_id\": \"10\", \"item_name\": \"Counter-Strik...</td>\n",
       "    </tr>\n",
       "    <tr>\n",
       "      <th>1</th>\n",
       "      <td>js41637</td>\n",
       "      <td>888</td>\n",
       "      <td>76561198035864385</td>\n",
       "      <td>http://steamcommunity.com/id/js41637</td>\n",
       "      <td>[{\"item_id\": \"10\", \"item_name\": \"Counter-Strik...</td>\n",
       "    </tr>\n",
       "    <tr>\n",
       "      <th>2</th>\n",
       "      <td>evcentric</td>\n",
       "      <td>137</td>\n",
       "      <td>76561198007712555</td>\n",
       "      <td>http://steamcommunity.com/id/evcentric</td>\n",
       "      <td>[{\"item_id\": \"1200\", \"item_name\": \"Red Orchest...</td>\n",
       "    </tr>\n",
       "    <tr>\n",
       "      <th>3</th>\n",
       "      <td>Riot-Punch</td>\n",
       "      <td>328</td>\n",
       "      <td>76561197963445855</td>\n",
       "      <td>http://steamcommunity.com/id/Riot-Punch</td>\n",
       "      <td>[{\"item_id\": \"10\", \"item_name\": \"Counter-Strik...</td>\n",
       "    </tr>\n",
       "    <tr>\n",
       "      <th>4</th>\n",
       "      <td>doctr</td>\n",
       "      <td>541</td>\n",
       "      <td>76561198002099482</td>\n",
       "      <td>http://steamcommunity.com/id/doctr</td>\n",
       "      <td>[{\"item_id\": \"300\", \"item_name\": \"Day of Defea...</td>\n",
       "    </tr>\n",
       "  </tbody>\n",
       "</table>\n",
       "</div>"
      ],
      "text/plain": [
       "             user_id  items_count           steam_id  \\\n",
       "0  76561197970982479          277  76561197970982479   \n",
       "1            js41637          888  76561198035864385   \n",
       "2          evcentric          137  76561198007712555   \n",
       "3         Riot-Punch          328  76561197963445855   \n",
       "4              doctr          541  76561198002099482   \n",
       "\n",
       "                                            user_url  \\\n",
       "0  http://steamcommunity.com/profiles/76561197970...   \n",
       "1               http://steamcommunity.com/id/js41637   \n",
       "2             http://steamcommunity.com/id/evcentric   \n",
       "3            http://steamcommunity.com/id/Riot-Punch   \n",
       "4                 http://steamcommunity.com/id/doctr   \n",
       "\n",
       "                                               items  \n",
       "0  [{\"item_id\": \"10\", \"item_name\": \"Counter-Strik...  \n",
       "1  [{\"item_id\": \"10\", \"item_name\": \"Counter-Strik...  \n",
       "2  [{\"item_id\": \"1200\", \"item_name\": \"Red Orchest...  \n",
       "3  [{\"item_id\": \"10\", \"item_name\": \"Counter-Strik...  \n",
       "4  [{\"item_id\": \"300\", \"item_name\": \"Day of Defea...  "
      ]
     },
     "execution_count": 50,
     "metadata": {},
     "output_type": "execute_result"
    }
   ],
   "source": [
    "users_items.head()\n"
   ]
  },
  {
   "cell_type": "markdown",
   "metadata": {},
   "source": [
    "VAMOPS A DESANIDAR LA COLUMNA 'items'"
   ]
  },
  {
   "cell_type": "code",
   "execution_count": 51,
   "metadata": {},
   "outputs": [],
   "source": [
    "import pandas as pd\n",
    "import json\n",
    "\n",
    "def desanidar_items(df):\n",
    "    # Crear listas vacías para cada nueva columna que queremos crear\n",
    "    columnas_nuevas = ['item_id', 'item_name', 'playtime_forever', 'playtime_2weeks']\n",
    "    for columna in columnas_nuevas:\n",
    "        df[columna] = None\n",
    "    \n",
    "    # Iterar sobre cada fila del DataFrame\n",
    "    for indice, fila in df.iterrows():\n",
    "        # Desanidar los datos JSON de la columna 'items' en una lista\n",
    "        datos_json = json.loads(fila['items'])\n",
    "        \n",
    "        # Verificar si los datos son una lista y si hay al menos un elemento\n",
    "        if isinstance(datos_json, list) and len(datos_json) > 0:\n",
    "            # Tomar el primer elemento de la lista como los datos desanidados\n",
    "            elemento = datos_json[0]\n",
    "            # Asignar los valores desanidados a las nuevas columnas\n",
    "            for columna in columnas_nuevas:\n",
    "                df.at[indice, columna] = elemento.get(columna, None)\n",
    "    \n",
    "    # Eliminar la columna 'items' original\n",
    "    df.drop(columns=['items'], inplace=True)\n",
    "    \n",
    "    return df\n",
    "\n",
    "# Llamar a la función con tu DataFrame\n",
    "users_items = desanidar_items(users_items)\n"
   ]
  },
  {
   "cell_type": "code",
   "execution_count": 57,
   "metadata": {},
   "outputs": [
    {
     "name": "stdout",
     "output_type": "stream",
     "text": [
      "<class 'pandas.core.frame.DataFrame'>\n",
      "Index: 71504 entries, 0 to 88308\n",
      "Data columns (total 8 columns):\n",
      " #   Column            Non-Null Count  Dtype \n",
      "---  ------            --------------  ----- \n",
      " 0   user_id           71504 non-null  object\n",
      " 1   items_count       71504 non-null  int64 \n",
      " 2   steam_id          71504 non-null  object\n",
      " 3   user_url          71504 non-null  object\n",
      " 4   item_id           71504 non-null  object\n",
      " 5   item_name         71504 non-null  object\n",
      " 6   playtime_forever  71504 non-null  object\n",
      " 7   playtime_2weeks   71504 non-null  object\n",
      "dtypes: int64(1), object(7)\n",
      "memory usage: 4.9+ MB\n"
     ]
    }
   ],
   "source": [
    "users_items.info()"
   ]
  },
  {
   "cell_type": "code",
   "execution_count": 54,
   "metadata": {},
   "outputs": [],
   "source": [
    "users_items = users_items.dropna()\n"
   ]
  },
  {
   "cell_type": "code",
   "execution_count": 58,
   "metadata": {},
   "outputs": [],
   "source": [
    "# Escribir el DataFrame users_items en un archivo CSV\n",
    "users_items.to_csv('users_items.csv', index=False)\n"
   ]
  },
  {
   "cell_type": "code",
   "execution_count": 59,
   "metadata": {},
   "outputs": [
    {
     "name": "stdout",
     "output_type": "stream",
     "text": [
      "{Negative = 7, Neutral = 22, Positive = 15}\n"
     ]
    }
   ],
   "source": [
    "def sentiment_analysis(year:int):\n",
    "    \"\"\"\n",
    "    sentimiento de consumidores de los juegos lanzados en año 'year'\n",
    "    \"\"\"\n",
    "    juegos_por_año_lanzamiento=steam_games[steam_games[\"release_date\"].str.contains(str(year))][\"id\"]\n",
    "    juegos_por_año_lanzamiento=juegos_por_año_lanzamiento.to_list()\n",
    "\n",
    "    compradores=users_items[ users_items[\"item_id\"].isin(juegos_por_año_lanzamiento) ].user_id.to_list()\n",
    "    \n",
    "    user_reviews[ user_reviews[\"user_id\"].isin(compradores) ][[\"user_id\",\"sentiment_analysis\"]]\n",
    "    \n",
    "    sentiment_analysis_data=user_reviews[ user_reviews[\"user_id\"].isin(compradores) ][[\"user_id\",\"sentiment_analysis\"]]\n",
    "    \n",
    "    valoraciones_por_año=sentiment_analysis_data[\"sentiment_analysis\"].value_counts()\n",
    "    neutrales=valoraciones_por_año[1]\n",
    "    positivas=valoraciones_por_año[2]\n",
    "    negativas=valoraciones_por_año[0]\n",
    "    print(\"{{Negative = {}, Neutral = {}, Positive = {}}}\".format(negativas,neutrales,positivas))\n",
    "\n",
    "sentiment_analysis(2017)"
   ]
  },
  {
   "cell_type": "code",
   "execution_count": 60,
   "metadata": {},
   "outputs": [
    {
     "name": "stdout",
     "output_type": "stream",
     "text": [
      "{Negative = 3, Neutral = 7, Positive = 7}\n"
     ]
    }
   ],
   "source": [
    "sentiment_analysis(2016)"
   ]
  }
 ],
 "metadata": {
  "kernelspec": {
   "display_name": "Python 3",
   "language": "python",
   "name": "python3"
  },
  "language_info": {
   "codemirror_mode": {
    "name": "ipython",
    "version": 3
   },
   "file_extension": ".py",
   "mimetype": "text/x-python",
   "name": "python",
   "nbconvert_exporter": "python",
   "pygments_lexer": "ipython3",
   "version": "3.11.8"
  }
 },
 "nbformat": 4,
 "nbformat_minor": 2
}
